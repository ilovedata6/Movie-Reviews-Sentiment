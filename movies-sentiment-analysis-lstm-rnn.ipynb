{
 "cells": [
  {
   "cell_type": "code",
   "execution_count": 1,
   "metadata": {
    "_cell_guid": "b1076dfc-b9ad-4769-8c92-a6c4dae69d19",
    "_uuid": "8f2839f25d086af736a60e9eeb907d3b93b6e0e5",
    "execution": {
     "iopub.execute_input": "2024-07-28T08:48:09.493171Z",
     "iopub.status.busy": "2024-07-28T08:48:09.492602Z",
     "iopub.status.idle": "2024-07-28T08:48:10.400489Z",
     "shell.execute_reply": "2024-07-28T08:48:10.399460Z",
     "shell.execute_reply.started": "2024-07-28T08:48:09.493141Z"
    }
   },
   "outputs": [
    {
     "name": "stdout",
     "output_type": "stream",
     "text": [
      "/kaggle/input/imdb-dataset-of-50k-movie-reviews/IMDB Dataset.csv\n"
     ]
    }
   ],
   "source": [
    "# This Python 3 environment comes with many helpful analytics libraries installed\n",
    "# It is defined by the kaggle/python Docker image: https://github.com/kaggle/docker-python\n",
    "# For example, here's several helpful packages to load\n",
    "\n",
    "import numpy as np # linear algebra\n",
    "import pandas as pd # data processing, CSV file I/O (e.g. pd.read_csv)\n",
    "\n",
    "# Input data files are available in the read-only \"../input/\" directory\n",
    "# For example, running this (by clicking run or pressing Shift+Enter) will list all files under the input directory\n",
    "\n",
    "import os\n",
    "for dirname, _, filenames in os.walk('/kaggle/input'):\n",
    "    for filename in filenames:\n",
    "        print(os.path.join(dirname, filename))\n",
    "\n",
    "# You can write up to 20GB to the current directory (/kaggle/working/) that gets preserved as output when you create a version using \"Save & Run All\" \n",
    "# You can also write temporary files to /kaggle/temp/, but they won't be saved outside of the current session"
   ]
  },
  {
   "cell_type": "markdown",
   "metadata": {},
   "source": [
    "### Loading the Necessary Libraries"
   ]
  },
  {
   "cell_type": "code",
   "execution_count": 2,
   "metadata": {
    "execution": {
     "iopub.execute_input": "2024-07-28T08:48:10.402762Z",
     "iopub.status.busy": "2024-07-28T08:48:10.402301Z",
     "iopub.status.idle": "2024-07-28T08:48:23.085358Z",
     "shell.execute_reply": "2024-07-28T08:48:23.084324Z",
     "shell.execute_reply.started": "2024-07-28T08:48:10.402730Z"
    }
   },
   "outputs": [
    {
     "name": "stderr",
     "output_type": "stream",
     "text": [
      "2024-07-28 08:48:13.222146: E external/local_xla/xla/stream_executor/cuda/cuda_dnn.cc:9261] Unable to register cuDNN factory: Attempting to register factory for plugin cuDNN when one has already been registered\n",
      "2024-07-28 08:48:13.222286: E external/local_xla/xla/stream_executor/cuda/cuda_fft.cc:607] Unable to register cuFFT factory: Attempting to register factory for plugin cuFFT when one has already been registered\n",
      "2024-07-28 08:48:13.359288: E external/local_xla/xla/stream_executor/cuda/cuda_blas.cc:1515] Unable to register cuBLAS factory: Attempting to register factory for plugin cuBLAS when one has already been registered\n"
     ]
    }
   ],
   "source": [
    "from sklearn.model_selection import train_test_split\n",
    "from tensorflow.keras.models import Sequential\n",
    "from tensorflow.keras.layers import Dense , Embedding , LSTM\n",
    "from tensorflow.keras.preprocessing.text import Tokenizer\n",
    "from tensorflow.keras.preprocessing.sequence import pad_sequences"
   ]
  },
  {
   "cell_type": "markdown",
   "metadata": {},
   "source": [
    "### Loading The Textual Data"
   ]
  },
  {
   "cell_type": "code",
   "execution_count": 3,
   "metadata": {
    "execution": {
     "iopub.execute_input": "2024-07-28T08:48:23.086985Z",
     "iopub.status.busy": "2024-07-28T08:48:23.086469Z",
     "iopub.status.idle": "2024-07-28T08:48:24.693080Z",
     "shell.execute_reply": "2024-07-28T08:48:24.692061Z",
     "shell.execute_reply.started": "2024-07-28T08:48:23.086952Z"
    }
   },
   "outputs": [],
   "source": [
    "df = pd.read_csv(\"/kaggle/input/imdb-dataset-of-50k-movie-reviews/IMDB Dataset.csv\")"
   ]
  },
  {
   "cell_type": "code",
   "execution_count": 4,
   "metadata": {
    "execution": {
     "iopub.execute_input": "2024-07-28T08:48:24.695673Z",
     "iopub.status.busy": "2024-07-28T08:48:24.695353Z",
     "iopub.status.idle": "2024-07-28T08:48:24.702308Z",
     "shell.execute_reply": "2024-07-28T08:48:24.701381Z",
     "shell.execute_reply.started": "2024-07-28T08:48:24.695647Z"
    }
   },
   "outputs": [
    {
     "data": {
      "text/plain": [
       "(50000, 2)"
      ]
     },
     "execution_count": 4,
     "metadata": {},
     "output_type": "execute_result"
    }
   ],
   "source": [
    "df.shape"
   ]
  },
  {
   "cell_type": "code",
   "execution_count": 5,
   "metadata": {
    "execution": {
     "iopub.execute_input": "2024-07-28T08:48:24.703742Z",
     "iopub.status.busy": "2024-07-28T08:48:24.703460Z",
     "iopub.status.idle": "2024-07-28T08:48:24.728409Z",
     "shell.execute_reply": "2024-07-28T08:48:24.727546Z",
     "shell.execute_reply.started": "2024-07-28T08:48:24.703720Z"
    }
   },
   "outputs": [
    {
     "data": {
      "text/html": [
       "<div>\n",
       "<style scoped>\n",
       "    .dataframe tbody tr th:only-of-type {\n",
       "        vertical-align: middle;\n",
       "    }\n",
       "\n",
       "    .dataframe tbody tr th {\n",
       "        vertical-align: top;\n",
       "    }\n",
       "\n",
       "    .dataframe thead th {\n",
       "        text-align: right;\n",
       "    }\n",
       "</style>\n",
       "<table border=\"1\" class=\"dataframe\">\n",
       "  <thead>\n",
       "    <tr style=\"text-align: right;\">\n",
       "      <th></th>\n",
       "      <th>review</th>\n",
       "      <th>sentiment</th>\n",
       "    </tr>\n",
       "  </thead>\n",
       "  <tbody>\n",
       "    <tr>\n",
       "      <th>48149</th>\n",
       "      <td>I screamed my head off because seeing this mov...</td>\n",
       "      <td>negative</td>\n",
       "    </tr>\n",
       "    <tr>\n",
       "      <th>8666</th>\n",
       "      <td>I think Andrew Davies did an admirable job of ...</td>\n",
       "      <td>positive</td>\n",
       "    </tr>\n",
       "    <tr>\n",
       "      <th>47115</th>\n",
       "      <td>This film differentiates itself from the run-o...</td>\n",
       "      <td>negative</td>\n",
       "    </tr>\n",
       "    <tr>\n",
       "      <th>42958</th>\n",
       "      <td>I wasn't expecting much, and, to be honest, I ...</td>\n",
       "      <td>positive</td>\n",
       "    </tr>\n",
       "    <tr>\n",
       "      <th>41592</th>\n",
       "      <td>The film shows relations of the dying mother, ...</td>\n",
       "      <td>negative</td>\n",
       "    </tr>\n",
       "  </tbody>\n",
       "</table>\n",
       "</div>"
      ],
      "text/plain": [
       "                                                  review sentiment\n",
       "48149  I screamed my head off because seeing this mov...  negative\n",
       "8666   I think Andrew Davies did an admirable job of ...  positive\n",
       "47115  This film differentiates itself from the run-o...  negative\n",
       "42958  I wasn't expecting much, and, to be honest, I ...  positive\n",
       "41592  The film shows relations of the dying mother, ...  negative"
      ]
     },
     "execution_count": 5,
     "metadata": {},
     "output_type": "execute_result"
    }
   ],
   "source": [
    "df.sample(n=5)"
   ]
  },
  {
   "cell_type": "code",
   "execution_count": 6,
   "metadata": {
    "execution": {
     "iopub.execute_input": "2024-07-28T08:48:24.729643Z",
     "iopub.status.busy": "2024-07-28T08:48:24.729389Z",
     "iopub.status.idle": "2024-07-28T08:48:24.747967Z",
     "shell.execute_reply": "2024-07-28T08:48:24.747074Z",
     "shell.execute_reply.started": "2024-07-28T08:48:24.729621Z"
    }
   },
   "outputs": [
    {
     "data": {
      "text/plain": [
       "sentiment\n",
       "positive    25000\n",
       "negative    25000\n",
       "Name: count, dtype: int64"
      ]
     },
     "execution_count": 6,
     "metadata": {},
     "output_type": "execute_result"
    }
   ],
   "source": [
    "df['sentiment'].value_counts()"
   ]
  },
  {
   "cell_type": "code",
   "execution_count": 7,
   "metadata": {
    "execution": {
     "iopub.execute_input": "2024-07-28T08:48:24.749864Z",
     "iopub.status.busy": "2024-07-28T08:48:24.749079Z",
     "iopub.status.idle": "2024-07-28T08:48:24.787455Z",
     "shell.execute_reply": "2024-07-28T08:48:24.786617Z",
     "shell.execute_reply.started": "2024-07-28T08:48:24.749833Z"
    }
   },
   "outputs": [],
   "source": [
    "df['sentiment'] = df['sentiment'].apply(lambda x: 1 if x == 'positive' else 0)"
   ]
  },
  {
   "cell_type": "code",
   "execution_count": 8,
   "metadata": {
    "execution": {
     "iopub.execute_input": "2024-07-28T08:48:24.789091Z",
     "iopub.status.busy": "2024-07-28T08:48:24.788674Z",
     "iopub.status.idle": "2024-07-28T08:48:24.804943Z",
     "shell.execute_reply": "2024-07-28T08:48:24.803969Z",
     "shell.execute_reply.started": "2024-07-28T08:48:24.789061Z"
    }
   },
   "outputs": [
    {
     "data": {
      "text/plain": [
       "review       0\n",
       "sentiment    0\n",
       "dtype: int64"
      ]
     },
     "execution_count": 8,
     "metadata": {},
     "output_type": "execute_result"
    }
   ],
   "source": [
    "df.isna().sum()"
   ]
  },
  {
   "cell_type": "markdown",
   "metadata": {},
   "source": [
    "### Splitting the Data into Train and Test"
   ]
  },
  {
   "cell_type": "code",
   "execution_count": 9,
   "metadata": {
    "execution": {
     "iopub.execute_input": "2024-07-28T08:48:24.806434Z",
     "iopub.status.busy": "2024-07-28T08:48:24.806126Z",
     "iopub.status.idle": "2024-07-28T08:48:24.819760Z",
     "shell.execute_reply": "2024-07-28T08:48:24.818837Z",
     "shell.execute_reply.started": "2024-07-28T08:48:24.806409Z"
    }
   },
   "outputs": [],
   "source": [
    "train_data , test_data = train_test_split(df,test_size=0.2,random_state=42)"
   ]
  },
  {
   "cell_type": "code",
   "execution_count": 10,
   "metadata": {
    "execution": {
     "iopub.execute_input": "2024-07-28T08:48:24.823283Z",
     "iopub.status.busy": "2024-07-28T08:48:24.822962Z",
     "iopub.status.idle": "2024-07-28T08:48:24.828317Z",
     "shell.execute_reply": "2024-07-28T08:48:24.827393Z",
     "shell.execute_reply.started": "2024-07-28T08:48:24.823259Z"
    }
   },
   "outputs": [
    {
     "name": "stdout",
     "output_type": "stream",
     "text": [
      "Shape of Train Data : (40000, 2)\n",
      "Shape of Test Data : (10000, 2)\n"
     ]
    }
   ],
   "source": [
    "print(f\"Shape of Train Data : {train_data.shape}\")\n",
    "print(f\"Shape of Test Data : {test_data.shape}\")"
   ]
  },
  {
   "cell_type": "markdown",
   "metadata": {},
   "source": [
    "### Text Preprocessing"
   ]
  },
  {
   "cell_type": "code",
   "execution_count": 11,
   "metadata": {
    "execution": {
     "iopub.execute_input": "2024-07-28T08:48:24.829813Z",
     "iopub.status.busy": "2024-07-28T08:48:24.829465Z",
     "iopub.status.idle": "2024-07-28T08:48:41.571737Z",
     "shell.execute_reply": "2024-07-28T08:48:41.570959Z",
     "shell.execute_reply.started": "2024-07-28T08:48:24.829776Z"
    }
   },
   "outputs": [],
   "source": [
    "tokenizer = Tokenizer(num_words=5000)\n",
    "tokenizer.fit_on_texts(train_data['review'])\n",
    "X_train = pad_sequences(tokenizer.texts_to_sequences(train_data['review']),maxlen=200)\n",
    "X_test = pad_sequences(tokenizer.texts_to_sequences(test_data['review']),maxlen=200)"
   ]
  },
  {
   "cell_type": "code",
   "execution_count": 12,
   "metadata": {
    "execution": {
     "iopub.execute_input": "2024-07-28T08:48:41.573066Z",
     "iopub.status.busy": "2024-07-28T08:48:41.572785Z",
     "iopub.status.idle": "2024-07-28T08:48:41.577612Z",
     "shell.execute_reply": "2024-07-28T08:48:41.576520Z",
     "shell.execute_reply.started": "2024-07-28T08:48:41.573043Z"
    }
   },
   "outputs": [],
   "source": [
    "Y_train , Y_test = train_data['sentiment'],test_data['sentiment']"
   ]
  },
  {
   "cell_type": "markdown",
   "metadata": {},
   "source": [
    "### Model Training Using (LSTM - Long Short Term Memory)"
   ]
  },
  {
   "cell_type": "code",
   "execution_count": 13,
   "metadata": {
    "execution": {
     "iopub.execute_input": "2024-07-28T08:48:41.579095Z",
     "iopub.status.busy": "2024-07-28T08:48:41.578753Z",
     "iopub.status.idle": "2024-07-28T08:48:42.215746Z",
     "shell.execute_reply": "2024-07-28T08:48:42.215023Z",
     "shell.execute_reply.started": "2024-07-28T08:48:41.579062Z"
    }
   },
   "outputs": [
    {
     "name": "stderr",
     "output_type": "stream",
     "text": [
      "/opt/conda/lib/python3.10/site-packages/keras/src/layers/core/embedding.py:90: UserWarning: Argument `input_length` is deprecated. Just remove it.\n",
      "  warnings.warn(\n"
     ]
    }
   ],
   "source": [
    "model = Sequential()\n",
    "model.add(Embedding(input_dim=5000,output_dim=128,input_length=200))\n",
    "model.add(LSTM(128,dropout=0.2,recurrent_dropout=0.2))\n",
    "model.add(Dense(1,activation='sigmoid'))"
   ]
  },
  {
   "cell_type": "code",
   "execution_count": 14,
   "metadata": {
    "execution": {
     "iopub.execute_input": "2024-07-28T08:48:42.217102Z",
     "iopub.status.busy": "2024-07-28T08:48:42.216799Z",
     "iopub.status.idle": "2024-07-28T08:48:42.236686Z",
     "shell.execute_reply": "2024-07-28T08:48:42.235824Z",
     "shell.execute_reply.started": "2024-07-28T08:48:42.217078Z"
    }
   },
   "outputs": [],
   "source": [
    "model.compile(optimizer='adam',loss='binary_crossentropy',metrics=['accuracy'])"
   ]
  },
  {
   "cell_type": "code",
   "execution_count": 15,
   "metadata": {
    "execution": {
     "iopub.execute_input": "2024-07-28T08:48:42.238039Z",
     "iopub.status.busy": "2024-07-28T08:48:42.237692Z",
     "iopub.status.idle": "2024-07-28T08:56:50.236584Z",
     "shell.execute_reply": "2024-07-28T08:56:50.235751Z",
     "shell.execute_reply.started": "2024-07-28T08:48:42.237992Z"
    }
   },
   "outputs": [
    {
     "name": "stdout",
     "output_type": "stream",
     "text": [
      "Epoch 1/10\n",
      "\u001b[1m250/250\u001b[0m \u001b[32m━━━━━━━━━━━━━━━━━━━━\u001b[0m\u001b[37m\u001b[0m \u001b[1m54s\u001b[0m 195ms/step - accuracy: 0.7144 - loss: 0.5438 - val_accuracy: 0.8145 - val_loss: 0.4056\n",
      "Epoch 2/10\n",
      "\u001b[1m250/250\u001b[0m \u001b[32m━━━━━━━━━━━━━━━━━━━━\u001b[0m\u001b[37m\u001b[0m \u001b[1m48s\u001b[0m 193ms/step - accuracy: 0.8572 - loss: 0.3434 - val_accuracy: 0.8496 - val_loss: 0.3405\n",
      "Epoch 3/10\n",
      "\u001b[1m250/250\u001b[0m \u001b[32m━━━━━━━━━━━━━━━━━━━━\u001b[0m\u001b[37m\u001b[0m \u001b[1m49s\u001b[0m 194ms/step - accuracy: 0.8754 - loss: 0.3105 - val_accuracy: 0.8487 - val_loss: 0.3517\n",
      "Epoch 4/10\n",
      "\u001b[1m250/250\u001b[0m \u001b[32m━━━━━━━━━━━━━━━━━━━━\u001b[0m\u001b[37m\u001b[0m \u001b[1m48s\u001b[0m 192ms/step - accuracy: 0.8864 - loss: 0.2811 - val_accuracy: 0.8595 - val_loss: 0.3404\n",
      "Epoch 5/10\n",
      "\u001b[1m250/250\u001b[0m \u001b[32m━━━━━━━━━━━━━━━━━━━━\u001b[0m\u001b[37m\u001b[0m \u001b[1m48s\u001b[0m 192ms/step - accuracy: 0.8996 - loss: 0.2543 - val_accuracy: 0.8736 - val_loss: 0.3198\n",
      "Epoch 6/10\n",
      "\u001b[1m250/250\u001b[0m \u001b[32m━━━━━━━━━━━━━━━━━━━━\u001b[0m\u001b[37m\u001b[0m \u001b[1m48s\u001b[0m 192ms/step - accuracy: 0.9104 - loss: 0.2325 - val_accuracy: 0.8665 - val_loss: 0.3467\n",
      "Epoch 7/10\n",
      "\u001b[1m250/250\u001b[0m \u001b[32m━━━━━━━━━━━━━━━━━━━━\u001b[0m\u001b[37m\u001b[0m \u001b[1m48s\u001b[0m 193ms/step - accuracy: 0.9216 - loss: 0.2066 - val_accuracy: 0.8580 - val_loss: 0.4035\n",
      "Epoch 8/10\n",
      "\u001b[1m250/250\u001b[0m \u001b[32m━━━━━━━━━━━━━━━━━━━━\u001b[0m\u001b[37m\u001b[0m \u001b[1m48s\u001b[0m 192ms/step - accuracy: 0.9169 - loss: 0.2132 - val_accuracy: 0.8702 - val_loss: 0.3514\n",
      "Epoch 9/10\n",
      "\u001b[1m250/250\u001b[0m \u001b[32m━━━━━━━━━━━━━━━━━━━━\u001b[0m\u001b[37m\u001b[0m \u001b[1m48s\u001b[0m 192ms/step - accuracy: 0.9322 - loss: 0.1799 - val_accuracy: 0.8687 - val_loss: 0.3591\n",
      "Epoch 10/10\n",
      "\u001b[1m250/250\u001b[0m \u001b[32m━━━━━━━━━━━━━━━━━━━━\u001b[0m\u001b[37m\u001b[0m \u001b[1m49s\u001b[0m 195ms/step - accuracy: 0.9355 - loss: 0.1704 - val_accuracy: 0.8354 - val_loss: 0.3943\n"
     ]
    },
    {
     "data": {
      "text/plain": [
       "<keras.src.callbacks.history.History at 0x7d36139a5b70>"
      ]
     },
     "execution_count": 15,
     "metadata": {},
     "output_type": "execute_result"
    }
   ],
   "source": [
    "model.fit(X_train, Y_train, epochs=10, batch_size=128, validation_split=0.2)"
   ]
  },
  {
   "cell_type": "code",
   "execution_count": 16,
   "metadata": {
    "execution": {
     "iopub.execute_input": "2024-07-28T08:56:50.237909Z",
     "iopub.status.busy": "2024-07-28T08:56:50.237630Z",
     "iopub.status.idle": "2024-07-28T08:57:31.254366Z",
     "shell.execute_reply": "2024-07-28T08:57:31.253344Z",
     "shell.execute_reply.started": "2024-07-28T08:56:50.237884Z"
    }
   },
   "outputs": [
    {
     "name": "stdout",
     "output_type": "stream",
     "text": [
      "\u001b[1m313/313\u001b[0m \u001b[32m━━━━━━━━━━━━━━━━━━━━\u001b[0m\u001b[37m\u001b[0m \u001b[1m21s\u001b[0m 68ms/step - accuracy: 0.8388 - loss: 0.3827\n",
      "Test Loss: 0.37961244583129883\n",
      "Test Accuracy: 0.8413000106811523\n"
     ]
    }
   ],
   "source": [
    "loss, accuracy = model.evaluate(X_test, Y_test)\n",
    "print(f\"Test Loss: {loss}\")\n",
    "print(f\"Test Accuracy: {accuracy}\")"
   ]
  },
  {
   "cell_type": "markdown",
   "metadata": {},
   "source": [
    "### Prediction Time"
   ]
  },
  {
   "cell_type": "code",
   "execution_count": 17,
   "metadata": {
    "execution": {
     "iopub.execute_input": "2024-07-28T08:57:31.255706Z",
     "iopub.status.busy": "2024-07-28T08:57:31.255426Z",
     "iopub.status.idle": "2024-07-28T08:57:31.260923Z",
     "shell.execute_reply": "2024-07-28T08:57:31.260074Z",
     "shell.execute_reply.started": "2024-07-28T08:57:31.255681Z"
    }
   },
   "outputs": [],
   "source": [
    "def predict_sentiment(review):\n",
    "    \n",
    "  sequence = tokenizer.texts_to_sequences([review])\n",
    "  padded_sequence = pad_sequences(sequence, maxlen=200)\n",
    "  prediction = model.predict(padded_sequence)\n",
    "  sentiment = \"positive\" if prediction[0][0] > 0.5 else \"negative\"\n",
    "  return sentiment"
   ]
  },
  {
   "cell_type": "code",
   "execution_count": 18,
   "metadata": {
    "execution": {
     "iopub.execute_input": "2024-07-28T08:57:31.262434Z",
     "iopub.status.busy": "2024-07-28T08:57:31.262058Z",
     "iopub.status.idle": "2024-07-28T08:57:31.571130Z",
     "shell.execute_reply": "2024-07-28T08:57:31.570223Z",
     "shell.execute_reply.started": "2024-07-28T08:57:31.262409Z"
    }
   },
   "outputs": [
    {
     "name": "stdout",
     "output_type": "stream",
     "text": [
      "\u001b[1m1/1\u001b[0m \u001b[32m━━━━━━━━━━━━━━━━━━━━\u001b[0m\u001b[37m\u001b[0m \u001b[1m0s\u001b[0m 255ms/step\n",
      "The sentiment of the review is: positive\n"
     ]
    }
   ],
   "source": [
    "# Predicting the Sentiment of Actual IMDB Review of Deadpool & Wolverine\n",
    "\n",
    "new_review = \"What a crazy blast ! Bonkers !!\"\n",
    "sentiment = predict_sentiment(new_review)\n",
    "print(f\"The sentiment of the review is: {sentiment}\")"
   ]
  },
  {
   "cell_type": "code",
   "execution_count": 19,
   "metadata": {
    "execution": {
     "iopub.execute_input": "2024-07-28T08:57:44.259925Z",
     "iopub.status.busy": "2024-07-28T08:57:44.259312Z",
     "iopub.status.idle": "2024-07-28T08:57:44.391718Z",
     "shell.execute_reply": "2024-07-28T08:57:44.390752Z",
     "shell.execute_reply.started": "2024-07-28T08:57:44.259892Z"
    }
   },
   "outputs": [
    {
     "name": "stdout",
     "output_type": "stream",
     "text": [
      "\u001b[1m1/1\u001b[0m \u001b[32m━━━━━━━━━━━━━━━━━━━━\u001b[0m\u001b[37m\u001b[0m \u001b[1m0s\u001b[0m 84ms/step\n",
      "The sentiment of the review is: negative\n"
     ]
    }
   ],
   "source": [
    "# Predicting the Sentiment of Actual IMDB Review of Deadpool & Wolverine\n",
    "\n",
    "new_review = \"Disappointing reference happy mess\"\n",
    "sentiment = predict_sentiment(new_review)\n",
    "print(f\"The sentiment of the review is: {sentiment}\")"
   ]
  },
  {
   "cell_type": "code",
   "execution_count": null,
   "metadata": {},
   "outputs": [],
   "source": []
  }
 ],
 "metadata": {
  "kaggle": {
   "accelerator": "none",
   "dataSources": [
    {
     "datasetId": 134715,
     "sourceId": 320111,
     "sourceType": "datasetVersion"
    }
   ],
   "dockerImageVersionId": 30747,
   "isGpuEnabled": false,
   "isInternetEnabled": true,
   "language": "python",
   "sourceType": "notebook"
  },
  "kernelspec": {
   "display_name": "Python 3 (ipykernel)",
   "language": "python",
   "name": "python3"
  },
  "language_info": {
   "codemirror_mode": {
    "name": "ipython",
    "version": 3
   },
   "file_extension": ".py",
   "mimetype": "text/x-python",
   "name": "python",
   "nbconvert_exporter": "python",
   "pygments_lexer": "ipython3",
   "version": "3.11.4"
  }
 },
 "nbformat": 4,
 "nbformat_minor": 4
}
